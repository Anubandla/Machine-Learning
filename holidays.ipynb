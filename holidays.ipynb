{
  "nbformat": 4,
  "nbformat_minor": 0,
  "metadata": {
    "colab": {
      "name": "holidays.ipynb",
      "provenance": [],
      "authorship_tag": "ABX9TyPrwjTEe66Bn+O7Lycq6HG/",
      "include_colab_link": true
    },
    "kernelspec": {
      "name": "python3",
      "display_name": "Python 3"
    }
  },
  "cells": [
    {
      "cell_type": "markdown",
      "metadata": {
        "id": "view-in-github",
        "colab_type": "text"
      },
      "source": [
        "<a href=\"https://colab.research.google.com/github/Anubandla/Machine-Learning/blob/master/holidays.ipynb\" target=\"_parent\"><img src=\"https://colab.research.google.com/assets/colab-badge.svg\" alt=\"Open In Colab\"/></a>"
      ]
    },
    {
      "cell_type": "code",
      "metadata": {
        "id": "67JgBVdG0muC",
        "colab_type": "code",
        "colab": {
          "base_uri": "https://localhost:8080/",
          "height": 158
        },
        "outputId": "929a1811-5976-4f6b-fbb5-606f967c9147"
      },
      "source": [
        "import requests\n",
        "url=\"https://calendarific.com/api/v2/holidays&api_key=fefee23c1e8fb6b29af8885ac92e360bb91ba016&year=2020&country=\"\n",
        "while(1):\n",
        "  country=input(\"Give country name :\")\n",
        "  my_url=url+country\n",
        "  responses=requests.get(my_url)\n",
        "  Description=responses.content\n",
        "  print(\"Holidays description:\\n\\n\",Description)\n",
        "  print(\"\\n\")\n"
      ],
      "execution_count": 0,
      "outputs": [
        {
          "output_type": "stream",
          "text": [
            "Give country name :us\n",
            "Holidays description:\n",
            "\n",
            " b'\\n{\"meta\":{\"code\":401,\"error_type\":\"auth failed\",\"error_detail\":\"Missing or invalid api credentials. See https:\\\\/\\\\/calendarific.com\\\\/api for details.\"},\"response\":[]}'\n",
            "\n",
            "\n"
          ],
          "name": "stdout"
        }
      ]
    }
  ]
}