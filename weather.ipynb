{
  "nbformat": 4,
  "nbformat_minor": 0,
  "metadata": {
    "colab": {
      "name": "weather.ipynb",
      "provenance": [],
      "authorship_tag": "ABX9TyMW2p9dB2qW7uYv15OWGdRm",
      "include_colab_link": true
    },
    "kernelspec": {
      "name": "python3",
      "display_name": "Python 3"
    }
  },
  "cells": [
    {
      "cell_type": "markdown",
      "metadata": {
        "id": "view-in-github",
        "colab_type": "text"
      },
      "source": [
        "<a href=\"https://colab.research.google.com/github/Anubandla/Machine-Learning/blob/master/weather.ipynb\" target=\"_parent\"><img src=\"https://colab.research.google.com/assets/colab-badge.svg\" alt=\"Open In Colab\"/></a>"
      ]
    },
    {
      "cell_type": "code",
      "metadata": {
        "id": "6CWWkseuqPUr",
        "colab_type": "code",
        "outputId": "397fddc6-f31d-41a5-c383-0c658d8b0097",
        "colab": {
          "base_uri": "https://localhost:8080/",
          "height": 260
        }
      },
      "source": [
        "import requests\n",
        "url=\"https://api.openweathermap.org/data/2.5/weather?appid=21b9d93c6a82683e4a5a5f5fc037150c&q=\"\n",
        "while(1):\n",
        "  city=input(\"city_name:\")\n",
        "  my_url=url+city\n",
        "  data=requests.get(my_url).json()\n",
        "  print(\"the weather report:\\n\\n\",data)"
      ],
      "execution_count": 0,
      "outputs": [
        {
          "output_type": "stream",
          "text": [
            "city_name:delhi\n",
            "the weather report:\n",
            "\n",
            " {'coord': {'lon': 77.22, 'lat': 28.67}, 'weather': [{'id': 721, 'main': 'Haze', 'description': 'haze', 'icon': '50n'}], 'base': 'stations', 'main': {'temp': 304.47, 'feels_like': 305.47, 'temp_min': 303.71, 'temp_max': 305.15, 'pressure': 1008, 'humidity': 43}, 'visibility': 4500, 'wind': {'speed': 2.1, 'deg': 80}, 'clouds': {'all': 40}, 'dt': 1588082810, 'sys': {'type': 1, 'id': 9165, 'country': 'IN', 'sunrise': 1588032758, 'sunset': 1588080257}, 'timezone': 19800, 'id': 1273294, 'name': 'Delhi', 'cod': 200}\n",
            "city_name:nandyal\n",
            "the weather report:\n",
            "\n",
            " {'coord': {'lon': 78.48, 'lat': 15.48}, 'weather': [{'id': 500, 'main': 'Rain', 'description': 'light rain', 'icon': '10n'}], 'base': 'stations', 'main': {'temp': 303.53, 'feels_like': 302.73, 'temp_min': 303.53, 'temp_max': 303.53, 'pressure': 1008, 'humidity': 40, 'sea_level': 1008, 'grnd_level': 985}, 'wind': {'speed': 3.58, 'deg': 71}, 'rain': {'1h': 0.14}, 'clouds': {'all': 5}, 'dt': 1588083253, 'sys': {'country': 'IN', 'sunrise': 1588033425, 'sunset': 1588078986}, 'timezone': 19800, 'id': 1261927, 'name': 'Nandyāl', 'cod': 200}\n",
            "city_name:chennai\n",
            "the weather report:\n",
            "\n",
            " {'coord': {'lon': 80.28, 'lat': 13.09}, 'weather': [{'id': 801, 'main': 'Clouds', 'description': 'few clouds', 'icon': '02n'}], 'base': 'stations', 'main': {'temp': 304.3, 'feels_like': 307.16, 'temp_min': 303.71, 'temp_max': 305.15, 'pressure': 1007, 'humidity': 70}, 'visibility': 6000, 'wind': {'speed': 5.1, 'deg': 150}, 'clouds': {'all': 20}, 'dt': 1588082760, 'sys': {'type': 1, 'id': 9218, 'country': 'IN', 'sunrise': 1588033151, 'sunset': 1588078396}, 'timezone': 19800, 'id': 1264527, 'name': 'Chennai', 'cod': 200}\n"
          ],
          "name": "stdout"
        }
      ]
    }
  ]
}